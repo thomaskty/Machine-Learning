{
 "cells": [
  {
   "cell_type": "markdown",
   "id": "764931f2",
   "metadata": {},
   "source": [
    "# Confusion matrix\n",
    "A table which shows the performance of a machine learning model with respect to different categories. "
   ]
  },
  {
   "cell_type": "markdown",
   "id": "f06c4497",
   "metadata": {},
   "source": [
    "<img src = 'https://www.dataschool.io/content/images/2015/01/confusion_matrix2.png'>"
   ]
  },
  {
   "cell_type": "markdown",
   "id": "99739d2a",
   "metadata": {},
   "source": [
    "<img src = 'https://www.researchgate.net/profile/Ibrahim-Gad-3/post/What_is_the_best_metric_precision_recall_f1_and_accuracy_to_evaluate_the_machine_learning_model_for_imbalanced_data/attachment/5f0d92695e3fff000177fe28/AS%3A913156859777024%401594724969138/image/accuracy.png'> "
   ]
  },
  {
   "cell_type": "markdown",
   "id": "76b7c1ef",
   "metadata": {},
   "source": [
    "## Multiclass classification confusion matrix \n",
    "<img src = 'https://miro.medium.com/max/1000/1*yH2SM0DIUQlEiveK42NnBg.png' width = \"500\" height = \"500\"> "
   ]
  },
  {
   "cell_type": "markdown",
   "id": "319bd09d",
   "metadata": {},
   "source": [
    " \n",
    " * In the case of Apple, TP = 7,FP=17,FN=4,TN=8\n",
    " * If correctly identiying negatives is more important,then we should put more emphasis on specificity.\n",
    " * If correctly identifying postives is more important then we should focus more on sensitivity(recall). \n",
    " \n",
    " * This is called micro-averaged F1-score. It is calculated by considering the total TP, total FP and total FN of the model. It does not consider each class individually, It calculates the metrics globally.\n",
    " \n",
    " * This is macro-averaged F1-score. It calculates metrics for each class individually and then takes unweighted mean of the measures. \n",
    " \n",
    " * he last one is weighted-averaged F1-score. Unlike Macro F1, it takes a weighted mean of the measures. The weights for each class are the total number of samples of that class"
   ]
  },
  {
   "cell_type": "code",
   "execution_count": null,
   "id": "32a9f930",
   "metadata": {},
   "outputs": [],
   "source": []
  },
  {
   "cell_type": "code",
   "execution_count": null,
   "id": "6218dc81",
   "metadata": {},
   "outputs": [],
   "source": []
  }
 ],
 "metadata": {
  "kernelspec": {
   "display_name": "Python 3 (ipykernel)",
   "language": "python",
   "name": "python3"
  },
  "language_info": {
   "codemirror_mode": {
    "name": "ipython",
    "version": 3
   },
   "file_extension": ".py",
   "mimetype": "text/x-python",
   "name": "python",
   "nbconvert_exporter": "python",
   "pygments_lexer": "ipython3",
   "version": "3.11.5"
  }
 },
 "nbformat": 4,
 "nbformat_minor": 5
}

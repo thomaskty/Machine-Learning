{
 "cells": [
  {
   "cell_type": "code",
   "execution_count": 1,
   "metadata": {},
   "outputs": [],
   "source": [
    "# %conda install pandas -y"
   ]
  },
  {
   "cell_type": "code",
   "execution_count": 2,
   "metadata": {},
   "outputs": [],
   "source": [
    "# %conda install prettytable"
   ]
  },
  {
   "cell_type": "code",
   "execution_count": 1,
   "metadata": {},
   "outputs": [],
   "source": [
    "from prettytable import PrettyTable\n",
    "import pandas as pd\n",
    "import numpy as np"
   ]
  },
  {
   "cell_type": "code",
   "execution_count": 4,
   "metadata": {},
   "outputs": [],
   "source": [
    "import pandas as pd\n",
    "from prettytable import PrettyTable\n",
    "\n",
    "def table(input_dataframe):\n",
    "    \"\"\"\n",
    "    This function takes a Pandas DataFrame or Series and displays it as a PrettyTable.\n",
    "    It also supports multi-index DataFrames and groupby operations with aggregated columns.\n",
    "    \"\"\"\n",
    "    # make a deep copy \n",
    "    df_or_series = input_dataframe.copy()\n",
    "    # Handle if input is a Pandas Series\n",
    "    if isinstance(df_or_series, pd.Series):\n",
    "        series_name = df_or_series.index.name\n",
    "        df_or_series = df_or_series.to_frame().reset_index()\n",
    "        # Use the Series name as the column name for the values column\n",
    "        df_or_series.columns = [series_name, 'value']  # Dynamic column name\n",
    "\n",
    "    # Handle multi-index DataFrame from groupby aggregation\n",
    "    elif isinstance(df_or_series, pd.DataFrame):\n",
    "        if isinstance(df_or_series.columns, pd.MultiIndex):\n",
    "            # Flatten multi-level columns\n",
    "            df_or_series.columns = ['_'.join(col) if isinstance(col, tuple) else col for col in df_or_series.columns]\n",
    "            df_or_series.reset_index(inplace=True)\n",
    "\n",
    "    # Create PrettyTable instance\n",
    "    table = PrettyTable()\n",
    "\n",
    "    # Set the column names (field names) to match the DataFrame columns\n",
    "    table.field_names = df_or_series.columns.tolist()\n",
    "\n",
    "    # Add rows from the DataFrame or Series to the PrettyTable\n",
    "    for row in df_or_series.itertuples(index=False):\n",
    "        table.add_row(row)\n",
    "\n",
    "    # Print the table\n",
    "    print(table)\n"
   ]
  },
  {
   "cell_type": "code",
   "execution_count": 5,
   "metadata": {},
   "outputs": [],
   "source": [
    "df = pd.read_csv('sample_datasets/blackfriday.csv')"
   ]
  },
  {
   "cell_type": "code",
   "execution_count": 6,
   "metadata": {},
   "outputs": [
    {
     "data": {
      "text/plain": [
       "(537577, 12)"
      ]
     },
     "execution_count": 6,
     "metadata": {},
     "output_type": "execute_result"
    }
   ],
   "source": [
    "df.shape"
   ]
  },
  {
   "cell_type": "code",
   "execution_count": 7,
   "metadata": {},
   "outputs": [
    {
     "name": "stdout",
     "output_type": "stream",
     "text": [
      "Index(['User_ID', 'Product_ID', 'Gender', 'Age', 'Occupation', 'City_Category',\n",
      "       'Stay_In_Current_City_Years', 'Marital_Status', 'Product_Category_1',\n",
      "       'Product_Category_2', 'Product_Category_3', 'Purchase'],\n",
      "      dtype='object')\n"
     ]
    }
   ],
   "source": [
    "print(df.columns)"
   ]
  },
  {
   "cell_type": "code",
   "execution_count": 8,
   "metadata": {},
   "outputs": [
    {
     "name": "stdout",
     "output_type": "stream",
     "text": [
      "Index(['user_id', 'product_id', 'gender', 'age', 'occupation', 'city_category',\n",
      "       'stay_in_current_city_years', 'marital_status', 'product_category_1',\n",
      "       'product_category_2', 'product_category_3', 'purchase'],\n",
      "      dtype='object')\n"
     ]
    }
   ],
   "source": [
    "df.columns = [i.lower().replace(' ','_') for i in df.columns]\n",
    "print(df.columns)"
   ]
  },
  {
   "cell_type": "code",
   "execution_count": 26,
   "metadata": {},
   "outputs": [
    {
     "name": "stdout",
     "output_type": "stream",
     "text": [
      "+---------+------------+----------+------------+--------------------+--------------------+--------------------+\n",
      "| user_id | product_id | purchase | occupation | product_category_1 | product_category_2 | product_category_3 |\n",
      "+---------+------------+----------+------------+--------------------+--------------------+--------------------+\n",
      "| 1000001 | P00069042  |   8370   |     10     |         3          |        nan         |        nan         |\n",
      "| 1000001 | P00248942  |  15200   |     10     |         1          |        6.0         |        14.0        |\n",
      "| 1000001 | P00087842  |   1422   |     10     |         12         |        nan         |        nan         |\n",
      "| 1000001 | P00085442  |   1057   |     10     |         12         |        14.0        |        nan         |\n",
      "| 1000002 | P00285442  |   7969   |     16     |         8          |        nan         |        nan         |\n",
      "+---------+------------+----------+------------+--------------------+--------------------+--------------------+\n"
     ]
    }
   ],
   "source": [
    "table(df[['user_id','product_id','purchase','occupation','product_category_1','product_category_2','product_category_3']].head())"
   ]
  },
  {
   "cell_type": "code",
   "execution_count": 14,
   "metadata": {},
   "outputs": [
    {
     "data": {
      "text/plain": [
       "'city_category'"
      ]
     },
     "execution_count": 14,
     "metadata": {},
     "output_type": "execute_result"
    }
   ],
   "source": [
    "df.city_category.value_counts().index.name"
   ]
  },
  {
   "cell_type": "code",
   "execution_count": 25,
   "metadata": {},
   "outputs": [
    {
     "name": "stdout",
     "output_type": "stream",
     "text": [
      "+---------------+--------+\n",
      "| city_category | value  |\n",
      "+---------------+--------+\n",
      "|       B       | 226493 |\n",
      "|       C       | 166446 |\n",
      "|       A       | 144638 |\n",
      "+---------------+--------+\n"
     ]
    }
   ],
   "source": [
    "table(df.city_category.value_counts())"
   ]
  },
  {
   "cell_type": "code",
   "execution_count": 24,
   "metadata": {},
   "outputs": [
    {
     "name": "stdout",
     "output_type": "stream",
     "text": [
      "+------------+-------+\n",
      "| occupation | value |\n",
      "+------------+-------+\n",
      "|     4      | 70862 |\n",
      "|     0      | 68120 |\n",
      "|     7      | 57806 |\n",
      "|     1      | 45971 |\n",
      "|     17     | 39090 |\n",
      "|     20     | 32910 |\n",
      "|     12     | 30423 |\n",
      "|     14     | 26712 |\n",
      "|     2      | 25845 |\n",
      "|     16     | 24790 |\n",
      "|     6      | 19822 |\n",
      "|     3      | 17366 |\n",
      "|     10     | 12623 |\n",
      "|     5      | 11985 |\n",
      "|     15     | 11812 |\n",
      "|     11     | 11338 |\n",
      "|     19     |  8352 |\n",
      "|     13     |  7548 |\n",
      "|     18     |  6525 |\n",
      "|     9      |  6153 |\n",
      "|     8      |  1524 |\n",
      "+------------+-------+\n"
     ]
    }
   ],
   "source": [
    "table(df.occupation.value_counts())"
   ]
  },
  {
   "cell_type": "code",
   "execution_count": 23,
   "metadata": {
    "scrolled": true
   },
   "outputs": [
    {
     "name": "stdout",
     "output_type": "stream",
     "text": [
      "+---------------+------------+--------------+--------------------+----------------+\n",
      "| city_category | occupation | purchase_sum |   purchase_mean    | purchase_count |\n",
      "+---------------+------------+--------------+--------------------+----------------+\n",
      "|       A       |     0      |  164080740   |  8919.37051532942  |     18396      |\n",
      "|       A       |     1      |  108803572   | 8778.021137555466  |     12395      |\n",
      "|       A       |     2      |   76427056   |  8588.27463759973  |      8899      |\n",
      "|       A       |     3      |   49011902   | 8821.436645068394  |      5556      |\n",
      "|       A       |     4      |  214506091   | 8989.443089430893  |     23862      |\n",
      "|       A       |     5      |   20966920   | 8937.306052855925  |      2346      |\n",
      "|       A       |     6      |   34156542   | 9301.890522875818  |      3672      |\n",
      "|       A       |     7      |  140383356   | 8883.897987596507  |     15802      |\n",
      "|       A       |     8      |   1144331    |      11443.31      |      100       |\n",
      "|       A       |     9      |   6298388    | 8984.861626248217  |      701       |\n",
      "|       A       |     10     |   18943119   | 8661.691358024691  |      2187      |\n",
      "|       A       |     11     |   22544322   | 9381.740324594257  |      2403      |\n",
      "|       A       |     12     |   65733668   |  9496.34036405663  |      6922      |\n",
      "|       A       |     13     |   3334734    |    8684.203125     |      384       |\n",
      "|       A       |     14     |   72267923   | 9482.734942920877  |      7621      |\n",
      "|       A       |     15     |   29421256   | 9807.085333333333  |      3000      |\n",
      "|       A       |     16     |   55918396   | 9450.464086530337  |      5917      |\n",
      "|       A       |     17     |   73597023   | 9140.216467958271  |      8052      |\n",
      "|       A       |     18     |   14130776   | 8870.543628374136  |      1593      |\n",
      "|       A       |     19     |   18497734   | 8362.447558770344  |      2212      |\n",
      "|       A       |     20     |  105500948   | 8361.146615945474  |     12618      |\n",
      "|       B       |     0      |  266483416   | 9077.647363401009  |     29356      |\n",
      "|       B       |     1      |  169927659   | 8802.261538461538  |     19305      |\n",
      "|       B       |     2      |   98171236   |  8846.64648103091  |     11097      |\n",
      "|       B       |     3      |   63585551   | 9281.207269011824  |      6851      |\n",
      "|       B       |     4      |  266850565   | 9107.216989181257  |     29301      |\n",
      "|       B       |     5      |   59570514   | 9132.379886555265  |      6523      |\n",
      "|       B       |     6      |   97749478   | 9151.715944199981  |     10681      |\n",
      "|       B       |     7      |  213446917   | 9442.047111386357  |     22606      |\n",
      "|       B       |     8      |   7840209    | 9480.301088270859  |      827       |\n",
      "|       B       |     9      |   27278608   | 8580.877005347593  |      3179      |\n",
      "|       B       |     10     |   36974362   | 8952.630024213075  |      4130      |\n",
      "|       B       |     11     |   47757633   | 8703.778567523237  |      5487      |\n",
      "|       B       |     12     |  126966316   | 9866.059212059989  |     12869      |\n",
      "|       B       |     13     |   20625071   | 8844.370068610635  |      2332      |\n",
      "|       B       |     14     |  102998380   | 9322.807748008689  |     11048      |\n",
      "|       B       |     15     |   49666492   | 9788.429641308632  |      5074      |\n",
      "|       B       |     16     |   98095511   | 9201.342369383736  |     10661      |\n",
      "|       B       |     17     |  153965812   | 9814.240948495666  |     15688      |\n",
      "|       B       |     18     |   18472111   |  8817.23675417661  |      2095      |\n",
      "|       B       |     19     |   29965550   |  8899.77724977725  |      3367      |\n",
      "|       B       |     20     |  127040221   | 9063.942708333334  |     14016      |\n",
      "|       C       |     0      |  195250655   | 9586.147633542812  |     20368      |\n",
      "|       C       |     1      |  135821598   | 9517.314694134959  |     14271      |\n",
      "|       C       |     2      |   58677101   | 10031.988545050435 |      5849      |\n",
      "|       C       |     3      |   47830997   | 9645.290784432345  |      4959      |\n",
      "|       C       |     4      |  176173737   | 9953.880840725466  |     17699      |\n",
      "|       C       |     5      |   31987921   | 10265.699935815148 |      3116      |\n",
      "|       C       |     6      |   53159677   | 9720.182300237704  |      5469      |\n",
      "|       C       |     7      |  195452471   | 10075.908392617795 |     19398      |\n",
      "|       C       |     8      |   5610059    | 9397.083752093802  |      597       |\n",
      "|       C       |     9      |   20042313   | 8817.559612846459  |      2273      |\n",
      "|       C       |     10     |   58356473   |  9254.11877576911  |      6306      |\n",
      "|       C       |     11     |   35135404   | 10190.082366589328 |      3448      |\n",
      "|       C       |     12     |  107972121   | 10155.391365688487 |     10632      |\n",
      "|       C       |     13     |   47175939   | 9763.232408940397  |      4832      |\n",
      "|       C       |     14     |   80328442   |  9987.37311948278  |      8043      |\n",
      "|       C       |     15     |   37452278   | 10019.336008560727 |      3738      |\n",
      "|       C       |     16     |   80428423   | 9794.011568436434  |      8212      |\n",
      "|       C       |     17     |  159677520   | 10402.444299674267 |     15350      |\n",
      "|       C       |     18     |   27646819   | 9745.089531194924  |      2837      |\n",
      "|       C       |     19     |   24652205   | 8890.084745762711  |      2773      |\n",
      "|       C       |     20     |   59735816   | 9518.135117909496  |      6276      |\n",
      "+---------------+------------+--------------+--------------------+----------------+\n"
     ]
    }
   ],
   "source": [
    "group_df = df.groupby(['city_category','occupation']).agg({'purchase':['sum','mean','count']})\n",
    "table(group_df)"
   ]
  },
  {
   "cell_type": "code",
   "execution_count": 20,
   "metadata": {
    "scrolled": true
   },
   "outputs": [
    {
     "name": "stdout",
     "output_type": "stream",
     "text": [
      "+---------------+------------+--------------+--------------------+----------------+\n",
      "| city_category | occupation | purchase_sum |   purchase_mean    | purchase_count |\n",
      "+---------------+------------+--------------+--------------------+----------------+\n",
      "|       A       |     4      |  214506091   | 8989.443089430893  |     23862      |\n",
      "|       A       |     0      |  164080740   |  8919.37051532942  |     18396      |\n",
      "|       A       |     7      |  140383356   | 8883.897987596507  |     15802      |\n",
      "|       A       |     1      |  108803572   | 8778.021137555466  |     12395      |\n",
      "|       A       |     20     |  105500948   | 8361.146615945474  |     12618      |\n",
      "|       A       |     2      |   76427056   |  8588.27463759973  |      8899      |\n",
      "|       A       |     17     |   73597023   | 9140.216467958271  |      8052      |\n",
      "|       A       |     14     |   72267923   | 9482.734942920877  |      7621      |\n",
      "|       A       |     12     |   65733668   |  9496.34036405663  |      6922      |\n",
      "|       A       |     16     |   55918396   | 9450.464086530337  |      5917      |\n",
      "|       A       |     3      |   49011902   | 8821.436645068394  |      5556      |\n",
      "|       A       |     6      |   34156542   | 9301.890522875818  |      3672      |\n",
      "|       A       |     15     |   29421256   | 9807.085333333333  |      3000      |\n",
      "|       A       |     11     |   22544322   | 9381.740324594257  |      2403      |\n",
      "|       A       |     5      |   20966920   | 8937.306052855925  |      2346      |\n",
      "|       A       |     10     |   18943119   | 8661.691358024691  |      2187      |\n",
      "|       A       |     19     |   18497734   | 8362.447558770344  |      2212      |\n",
      "|       A       |     18     |   14130776   | 8870.543628374136  |      1593      |\n",
      "|       A       |     9      |   6298388    | 8984.861626248217  |      701       |\n",
      "|       A       |     13     |   3334734    |    8684.203125     |      384       |\n",
      "|       A       |     8      |   1144331    |      11443.31      |      100       |\n",
      "|       B       |     4      |  266850565   | 9107.216989181257  |     29301      |\n",
      "|       B       |     0      |  266483416   | 9077.647363401009  |     29356      |\n",
      "|       B       |     7      |  213446917   | 9442.047111386357  |     22606      |\n",
      "|       B       |     1      |  169927659   | 8802.261538461538  |     19305      |\n",
      "|       B       |     17     |  153965812   | 9814.240948495666  |     15688      |\n",
      "|       B       |     20     |  127040221   | 9063.942708333334  |     14016      |\n",
      "|       B       |     12     |  126966316   | 9866.059212059989  |     12869      |\n",
      "|       B       |     14     |  102998380   | 9322.807748008689  |     11048      |\n",
      "|       B       |     2      |   98171236   |  8846.64648103091  |     11097      |\n",
      "|       B       |     16     |   98095511   | 9201.342369383736  |     10661      |\n",
      "|       B       |     6      |   97749478   | 9151.715944199981  |     10681      |\n",
      "|       B       |     3      |   63585551   | 9281.207269011824  |      6851      |\n",
      "|       B       |     5      |   59570514   | 9132.379886555265  |      6523      |\n",
      "|       B       |     15     |   49666492   | 9788.429641308632  |      5074      |\n",
      "|       B       |     11     |   47757633   | 8703.778567523237  |      5487      |\n",
      "|       B       |     10     |   36974362   | 8952.630024213075  |      4130      |\n",
      "|       B       |     19     |   29965550   |  8899.77724977725  |      3367      |\n",
      "|       B       |     9      |   27278608   | 8580.877005347593  |      3179      |\n",
      "|       B       |     13     |   20625071   | 8844.370068610635  |      2332      |\n",
      "|       B       |     18     |   18472111   |  8817.23675417661  |      2095      |\n",
      "|       B       |     8      |   7840209    | 9480.301088270859  |      827       |\n",
      "|       C       |     7      |  195452471   | 10075.908392617795 |     19398      |\n",
      "|       C       |     0      |  195250655   | 9586.147633542812  |     20368      |\n",
      "|       C       |     4      |  176173737   | 9953.880840725466  |     17699      |\n",
      "|       C       |     17     |  159677520   | 10402.444299674267 |     15350      |\n",
      "|       C       |     1      |  135821598   | 9517.314694134959  |     14271      |\n",
      "|       C       |     12     |  107972121   | 10155.391365688487 |     10632      |\n",
      "|       C       |     16     |   80428423   | 9794.011568436434  |      8212      |\n",
      "|       C       |     14     |   80328442   |  9987.37311948278  |      8043      |\n",
      "|       C       |     20     |   59735816   | 9518.135117909496  |      6276      |\n",
      "|       C       |     2      |   58677101   | 10031.988545050435 |      5849      |\n",
      "|       C       |     10     |   58356473   |  9254.11877576911  |      6306      |\n",
      "|       C       |     6      |   53159677   | 9720.182300237704  |      5469      |\n",
      "|       C       |     3      |   47830997   | 9645.290784432345  |      4959      |\n",
      "|       C       |     13     |   47175939   | 9763.232408940397  |      4832      |\n",
      "|       C       |     15     |   37452278   | 10019.336008560727 |      3738      |\n",
      "|       C       |     11     |   35135404   | 10190.082366589328 |      3448      |\n",
      "|       C       |     5      |   31987921   | 10265.699935815148 |      3116      |\n",
      "|       C       |     18     |   27646819   | 9745.089531194924  |      2837      |\n",
      "|       C       |     19     |   24652205   | 8890.084745762711  |      2773      |\n",
      "|       C       |     9      |   20042313   | 8817.559612846459  |      2273      |\n",
      "|       C       |     8      |   5610059    | 9397.083752093802  |      597       |\n",
      "+---------------+------------+--------------+--------------------+----------------+\n"
     ]
    }
   ],
   "source": [
    "# for each city category : sort the purchase value in descending order \n",
    "sorted_grouped = group_df.sort_values(['city_category',('purchase','sum')], ascending=[True, False])\n",
    "table(sorted_grouped)"
   ]
  },
  {
   "cell_type": "code",
   "execution_count": 22,
   "metadata": {},
   "outputs": [
    {
     "name": "stdout",
     "output_type": "stream",
     "text": [
      "+-------+----------------+-------------+--------------+-------------------+----------------+\n",
      "| index | city_category_ | occupation_ | purchase_sum |   purchase_mean   | purchase_count |\n",
      "+-------+----------------+-------------+--------------+-------------------+----------------+\n",
      "|   0   |       A        |      0      |  164080740   |  8919.37051532942 |     18396      |\n",
      "|   1   |       B        |      0      |  266483416   | 9077.647363401009 |     29356      |\n",
      "|   2   |       C        |      0      |  195250655   | 9586.147633542812 |     20368      |\n",
      "+-------+----------------+-------------+--------------+-------------------+----------------+\n"
     ]
    }
   ],
   "source": [
    "# Step 3: Extract the second largest purchase for each City_Category\n",
    "result = (\n",
    "    sorted_grouped.groupby('city_category')\n",
    "    .nth(1)  # Get the second row (index 1) in each group\n",
    "    .reset_index()\n",
    ")\n",
    "table(result)"
   ]
  },
  {
   "cell_type": "code",
   "execution_count": 27,
   "metadata": {},
   "outputs": [
    {
     "name": "stdout",
     "output_type": "stream",
     "text": [
      "+------------+----------+-------------------+--------+------+\n",
      "|    City    | Employee |     Job_Title     | Salary | Rank |\n",
      "+------------+----------+-------------------+--------+------+\n",
      "| California |    E1    |   Data Scientist  | 120000 | 1.0  |\n",
      "| California |    E2    |   Data Scientist  | 120000 | 1.0  |\n",
      "| California |    E3    |   Data Scientist  | 110000 | 2.0  |\n",
      "| California |    E4    |   Data Scientist  | 100000 | 3.0  |\n",
      "|  New York  |    E5    |   Data Scientist  | 130000 | 1.0  |\n",
      "|  New York  |    E6    |   Data Scientist  | 125000 | 2.0  |\n",
      "|   Texas    |    E7    |   Data Scientist  | 115000 | 1.0  |\n",
      "|   Texas    |    E8    |   Data Scientist  | 115000 | 1.0  |\n",
      "|   Texas    |    E9    | Software Engineer | 140000 | 1.0  |\n",
      "|   Texas    |   E10    | Software Engineer | 135000 | 2.0  |\n",
      "| California |   E11    | Software Engineer | 150000 | 1.0  |\n",
      "| California |   E12    | Software Engineer | 145000 | 2.0  |\n",
      "|  New York  |   E13    |      Manager      | 160000 | 1.0  |\n",
      "|  New York  |   E14    |      Manager      | 155000 | 2.0  |\n",
      "|   Texas    |   E15    |      Manager      | 90000  | 1.0  |\n",
      "|   Texas    |   E16    |      Manager      | 85000  | 2.0  |\n",
      "+------------+----------+-------------------+--------+------+\n"
     ]
    }
   ],
   "source": [
    "import pandas as pd\n",
    "\n",
    "# Expanded Sample Dataset\n",
    "data = {\n",
    "    'City': [\n",
    "        'California', 'California', 'California', 'California', 'New York', 'New York',\n",
    "        'Texas', 'Texas', 'Texas', 'Texas', 'California', 'California', 'New York',\n",
    "        'New York', 'Texas', 'Texas'\n",
    "    ],\n",
    "    'Employee': [\n",
    "        'E1', 'E2', 'E3', 'E4', 'E5', 'E6', \n",
    "        'E7', 'E8', 'E9', 'E10', 'E11', 'E12', 'E13',\n",
    "        'E14', 'E15', 'E16'\n",
    "    ],\n",
    "    'Job_Title': [\n",
    "        'Data Scientist', 'Data Scientist', 'Data Scientist', 'Data Scientist', \n",
    "        'Data Scientist', 'Data Scientist', 'Data Scientist', 'Data Scientist', \n",
    "        'Software Engineer', 'Software Engineer', 'Software Engineer', \n",
    "        'Software Engineer', 'Manager', 'Manager', 'Manager', 'Manager'\n",
    "    ],\n",
    "    'Salary': [\n",
    "        120000, 120000, 110000, 100000, 130000, 125000, \n",
    "        115000, 115000, 140000, 135000, 150000, 145000, 160000, 155000, 90000, 85000\n",
    "    ]\n",
    "}\n",
    "\n",
    "df = pd.DataFrame(data)\n",
    "\n",
    "# Assign ranks within each City and Job_Title based on Salary in descending order\n",
    "df['Rank'] = (\n",
    "    df.groupby(['City', 'Job_Title'])['Salary']\n",
    "    .rank(ascending=False, method='dense')  # Dense ranking: same salary gets same rank\n",
    ")\n",
    "\n",
    "table(df)"
   ]
  },
  {
   "cell_type": "code",
   "execution_count": null,
   "metadata": {},
   "outputs": [],
   "source": []
  },
  {
   "cell_type": "code",
   "execution_count": null,
   "metadata": {},
   "outputs": [],
   "source": []
  },
  {
   "cell_type": "code",
   "execution_count": null,
   "metadata": {},
   "outputs": [],
   "source": []
  },
  {
   "cell_type": "code",
   "execution_count": null,
   "metadata": {},
   "outputs": [],
   "source": []
  }
 ],
 "metadata": {
  "kernelspec": {
   "display_name": "Python 3",
   "language": "python",
   "name": "python3"
  },
  "language_info": {
   "codemirror_mode": {
    "name": "ipython",
    "version": 3
   },
   "file_extension": ".py",
   "mimetype": "text/x-python",
   "name": "python",
   "nbconvert_exporter": "python",
   "pygments_lexer": "ipython3",
   "version": "3.11.10"
  }
 },
 "nbformat": 4,
 "nbformat_minor": 4
}

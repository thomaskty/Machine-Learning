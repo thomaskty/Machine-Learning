{
 "cells": [
  {
   "cell_type": "code",
   "execution_count": 2,
   "metadata": {},
   "outputs": [],
   "source": [
    "import pandas as pd\n",
    "import numpy as np\n",
    "import datetime"
   ]
  },
  {
   "cell_type": "code",
   "execution_count": 3,
   "metadata": {},
   "outputs": [],
   "source": [
    "# %conda install pyodbc -y\n",
    "# %conda install scikit-learn\n",
    "# %conda install seaborn"
   ]
  },
  {
   "cell_type": "code",
   "execution_count": null,
   "metadata": {},
   "outputs": [],
   "source": []
  },
  {
   "cell_type": "code",
   "execution_count": null,
   "metadata": {},
   "outputs": [],
   "source": []
  },
  {
   "cell_type": "code",
   "execution_count": 5,
   "metadata": {},
   "outputs": [
    {
     "data": {
      "text/plain": [
       "'20241124021837PM'"
      ]
     },
     "execution_count": 5,
     "metadata": {},
     "output_type": "execute_result"
    }
   ],
   "source": [
    "get_current_time_ist()"
   ]
  },
  {
   "cell_type": "code",
   "execution_count": 6,
   "metadata": {},
   "outputs": [
    {
     "name": "stdout",
     "output_type": "stream",
     "text": [
      "+--------------------+------------+\n",
      "|       index        |   Value    |\n",
      "+--------------------+------------+\n",
      "|    date current    | 2024-11-24 |\n",
      "|   date lag (-1)    | 2024-10-31 |\n",
      "| month name current |  November  |\n",
      "|   month name lag   |  October   |\n",
      "|    year current    |    2024    |\n",
      "|      year lag      |    2024    |\n",
      "|   mmyyyy_current   |   112024   |\n",
      "|   yyyymm_current   |   202411   |\n",
      "|     mmyyyy_lag     |   102024   |\n",
      "|     yyyymm_lag     |   202410   |\n",
      "+--------------------+------------+\n"
     ]
    }
   ],
   "source": [
    "show_dateinfo()"
   ]
  },
  {
   "cell_type": "code",
   "execution_count": 7,
   "metadata": {},
   "outputs": [],
   "source": [
    "df = pd.read_csv('sample_datasets/BankChurners.csv')"
   ]
  },
  {
   "cell_type": "code",
   "execution_count": 8,
   "metadata": {},
   "outputs": [
    {
     "data": {
      "text/plain": [
       "Index(['Attrition_Flag', 'Customer_Age', 'Gender', 'Dependent_count',\n",
       "       'Education_Level', 'Marital_Status', 'Income_Category', 'Card_Category',\n",
       "       'Months_on_book', 'Total_Relationship_Count', 'Months_Inactive_12_mon',\n",
       "       'Contacts_Count_12_mon', 'Credit_Limit', 'Total_Revolving_Bal',\n",
       "       'Avg_Open_To_Buy', 'Total_Amt_Chng_Q4_Q1', 'Total_Trans_Amt',\n",
       "       'Total_Trans_Ct', 'Total_Ct_Chng_Q4_Q1', 'Avg_Utilization_Ratio',\n",
       "       'Unnamed: 20', 'Unnamed: 21', 'Unnamed: 22', 'Unnamed: 23'],\n",
       "      dtype='object')"
      ]
     },
     "execution_count": 8,
     "metadata": {},
     "output_type": "execute_result"
    }
   ],
   "source": [
    "df.columns"
   ]
  },
  {
   "cell_type": "markdown",
   "metadata": {},
   "source": [
    "## correlation droppings"
   ]
  },
  {
   "cell_type": "code",
   "execution_count": 9,
   "metadata": {},
   "outputs": [],
   "source": [
    "numerical_df = df.select_dtypes(include='number')"
   ]
  },
  {
   "cell_type": "code",
   "execution_count": 10,
   "metadata": {},
   "outputs": [],
   "source": [
    "corr_df = numerical_df.corr().abs()"
   ]
  },
  {
   "cell_type": "code",
   "execution_count": 11,
   "metadata": {},
   "outputs": [],
   "source": [
    "from utilities import iteratively_remove_correlated_features,analyse_feature,woe_iv,iteratively_remove_correlated_features_with_target"
   ]
  },
  {
   "cell_type": "code",
   "execution_count": 12,
   "metadata": {},
   "outputs": [
    {
     "name": "stdout",
     "output_type": "stream",
     "text": [
      "+-------+---------------------+-----------------------+-----------------+-----------------+-------------+-----------------------+\n",
      "| index |       Feature1      |        Feature2       | Feature1_Target | Feature2_Target | Correlation |        Dropping       |\n",
      "+-------+---------------------+-----------------------+-----------------+-----------------+-------------+-----------------------+\n",
      "|   0   |     Customer_Age    |     Months_on_book    |      0.076      |      0.057      |    0.965    |     Months_on_book    |\n",
      "|   1   |     Credit_Limit    |    Avg_Open_To_Buy    |      -0.09      |      -0.093     |    0.999    |      Credit_Limit     |\n",
      "|   2   |   Total_Trans_Amt   |     Total_Trans_Ct    |      -0.197     |      -0.149     |    0.956    |     Total_Trans_Ct    |\n",
      "|   3   |     Credit_Limit    | Avg_Utilization_Ratio |      -0.09      |      -0.183     |    0.628    |      Credit_Limit     |\n",
      "|   4   | Total_Revolving_Bal | Avg_Utilization_Ratio |      -0.202     |      -0.183     |    0.721    | Avg_Utilization_Ratio |\n",
      "|   5   |   Avg_Open_To_Buy   | Avg_Utilization_Ratio |      -0.093     |      -0.183     |    0.654    |    Avg_Open_To_Buy    |\n",
      "+-------+---------------------+-----------------------+-----------------+-----------------+-------------+-----------------------+\n"
     ]
    }
   ],
   "source": [
    "drop_features,log_df_target = iteratively_remove_correlated_features_with_target(corr_df,'Dependent_count')"
   ]
  },
  {
   "cell_type": "code",
   "execution_count": 13,
   "metadata": {},
   "outputs": [
    {
     "name": "stdout",
     "output_type": "stream",
     "text": [
      "+-------+---------------------+-----------------------+-------------------+-------------------+-------------+-----------------------+\n",
      "| index |       Feature1      |        Feature2       | Feature1_Variance | Feature2_Variance | Correlation |        Dropping       |\n",
      "+-------+---------------------+-----------------------+-------------------+-------------------+-------------+-----------------------+\n",
      "|   0   |     Customer_Age    |     Months_on_book    |        0.1        |       0.101       |    0.965    |      Customer_Age     |\n",
      "|   1   |     Credit_Limit    |    Avg_Open_To_Buy    |       0.126       |       0.129       |    0.999    |      Credit_Limit     |\n",
      "|   2   |   Total_Trans_Amt   |     Total_Trans_Ct    |       0.093       |       0.095       |    0.956    |    Total_Trans_Amt    |\n",
      "|   3   |     Credit_Limit    | Avg_Utilization_Ratio |       0.126       |       0.099       |    0.628    | Avg_Utilization_Ratio |\n",
      "|   4   | Total_Revolving_Bal | Avg_Utilization_Ratio |       0.084       |       0.099       |    0.721    |  Total_Revolving_Bal  |\n",
      "|   5   |   Avg_Open_To_Buy   | Avg_Utilization_Ratio |       0.129       |       0.099       |    0.654    | Avg_Utilization_Ratio |\n",
      "+-------+---------------------+-----------------------+-------------------+-------------------+-------------+-----------------------+\n"
     ]
    }
   ],
   "source": [
    "all_features_dropped, log_df = iteratively_remove_correlated_features(corr_df)"
   ]
  },
  {
   "cell_type": "code",
   "execution_count": 14,
   "metadata": {},
   "outputs": [
    {
     "data": {
      "text/plain": [
       "['Avg_Utilization_Ratio',\n",
       " 'Customer_Age',\n",
       " 'Total_Trans_Amt',\n",
       " 'Credit_Limit',\n",
       " 'Total_Revolving_Bal']"
      ]
     },
     "execution_count": 14,
     "metadata": {},
     "output_type": "execute_result"
    }
   ],
   "source": [
    "all_features_dropped"
   ]
  },
  {
   "cell_type": "code",
   "execution_count": 15,
   "metadata": {},
   "outputs": [
    {
     "data": {
      "text/plain": [
       "Index(['Feature1', 'Feature2', 'Feature1_Variance', 'Feature2_Variance',\n",
       "       'Correlation', 'Dropping', 'Iteration_Step',\n",
       "       'Feature1_Correlated_With_Count', 'Feature2_Correlated_With_Count',\n",
       "       'Feature1_Correlated_With_List', 'Feature2_Correlated_With_List'],\n",
       "      dtype='object')"
      ]
     },
     "execution_count": 15,
     "metadata": {},
     "output_type": "execute_result"
    }
   ],
   "source": [
    "log_df.columns"
   ]
  },
  {
   "cell_type": "markdown",
   "metadata": {},
   "source": [
    "## feature analysis"
   ]
  },
  {
   "cell_type": "code",
   "execution_count": 16,
   "metadata": {},
   "outputs": [
    {
     "name": "stdout",
     "output_type": "stream",
     "text": [
      "feature analysis output is a dictionary with keys counts,total_ratio,bin_ratio\n",
      "Counts\n",
      "+-------------------+------+------+-------+\n",
      "|   Attrition_Flag  |  F   |  M   | total |\n",
      "+-------------------+------+------+-------+\n",
      "| Attrited Customer | 930  | 697  |  1627 |\n",
      "| Existing Customer | 4428 | 4072 |  8500 |\n",
      "|       total       | 5358 | 4769 | 10127 |\n",
      "+-------------------+------+------+-------+\n",
      "Total Ratio\n",
      "+-------------------+--------+--------+---------+\n",
      "|   Attrition_Flag  |   F    |   M    |  total  |\n",
      "+-------------------+--------+--------+---------+\n",
      "| Attrited Customer | 9.18%  | 6.88%  |  16.07% |\n",
      "| Existing Customer | 43.72% | 40.21% |  83.93% |\n",
      "|       total       | 52.91% | 47.09% | 100.00% |\n",
      "+-------------------+--------+--------+---------+\n",
      "Binwise Ratio\n",
      "+-------------------+--------+--------+---------+\n",
      "|   Attrition_Flag  |   F    |   M    |  total  |\n",
      "+-------------------+--------+--------+---------+\n",
      "| Attrited Customer | 57.16% | 42.84% | 100.00% |\n",
      "| Existing Customer | 52.09% | 47.91% | 100.00% |\n",
      "|       total       | 52.91% | 47.09% | 100.00% |\n",
      "+-------------------+--------+--------+---------+\n"
     ]
    }
   ],
   "source": [
    "analyse_feature(df,'Attrition_Flag','Gender',relation='cat2cat',bins='False')"
   ]
  },
  {
   "cell_type": "code",
   "execution_count": 18,
   "metadata": {},
   "outputs": [
    {
     "name": "stdout",
     "output_type": "stream",
     "text": [
      "+-------------------+--------+-------+-------+-----+-------+-------+-------+-------+--------+\n",
      "|   Attrition_Flag  | count  |  mean |  std  | min |  25%  |  50%  |  75%  |  max  | ratio  |\n",
      "+-------------------+--------+-------+-------+-----+-------+-------+-------+-------+--------+\n",
      "| Attrited Customer | 1627.0 | 0.162 | 0.264 | 0.0 |  0.0  |  0.0  | 0.231 | 0.999 | 16.07% |\n",
      "| Existing Customer | 8500.0 | 0.296 | 0.273 | 0.0 | 0.055 | 0.211 | 0.529 | 0.994 | 83.93% |\n",
      "+-------------------+--------+-------+-------+-----+-------+-------+-------+-------+--------+\n"
     ]
    }
   ],
   "source": [
    "analyse_feature(df,'Attrition_Flag','Avg_Utilization_Ratio',relation='cat2con',bins='False')"
   ]
  },
  {
   "cell_type": "code",
   "execution_count": 19,
   "metadata": {},
   "outputs": [
    {
     "name": "stdout",
     "output_type": "stream",
     "text": [
      "+-------------------+--------+-------+-------+-----+-------+-------+-------+-------+--------+\n",
      "| Customer_Age_bins | count  |  mean |  std  | min |  25%  |  50%  |  75%  |  max  | ratio  |\n",
      "+-------------------+--------+-------+-------+-----+-------+-------+-------+-------+--------+\n",
      "|   (25.999, 36.0]  | 1140.0 | 0.305 | 0.281 | 0.0 | 0.036 | 0.242 | 0.542 |  0.99 | 11.26% |\n",
      "|    (36.0, 39.0]   | 896.0  | 0.281 | 0.277 | 0.0 | 0.026 | 0.185 | 0.508 | 0.999 | 8.85%  |\n",
      "|    (39.0, 42.0]   | 1166.0 | 0.264 | 0.273 | 0.0 |  0.0  | 0.159 | 0.481 | 0.972 | 11.51% |\n",
      "|    (42.0, 44.0]   | 973.0  | 0.244 | 0.266 | 0.0 |  0.0  | 0.141 | 0.424 | 0.983 | 9.61%  |\n",
      "|    (44.0, 46.0]   | 976.0  | 0.264 | 0.274 | 0.0 | 0.021 | 0.144 | 0.493 | 0.985 | 9.64%  |\n",
      "|    (46.0, 48.0]   | 951.0  |  0.26 | 0.272 | 0.0 |  0.0  | 0.155 | 0.465 | 0.978 | 9.39%  |\n",
      "|    (48.0, 51.0]   | 1345.0 | 0.252 | 0.267 | 0.0 |  0.0  |  0.14 | 0.463 | 0.984 | 13.28% |\n",
      "|    (51.0, 53.0]   | 763.0  | 0.293 | 0.281 | 0.0 | 0.035 | 0.189 | 0.539 | 0.987 | 7.53%  |\n",
      "|    (53.0, 57.0]   | 1071.0 | 0.289 | 0.278 | 0.0 | 0.034 | 0.195 | 0.524 | 0.994 | 10.58% |\n",
      "|    (57.0, 73.0]   | 846.0  |  0.31 | 0.285 | 0.0 | 0.046 | 0.228 | 0.554 | 0.995 | 8.35%  |\n",
      "+-------------------+--------+-------+-------+-----+-------+-------+-------+-------+--------+\n"
     ]
    }
   ],
   "source": [
    "analyse_feature(df,'Customer_Age','Avg_Utilization_Ratio',relation='con2con',bins='False')"
   ]
  },
  {
   "cell_type": "code",
   "execution_count": 20,
   "metadata": {},
   "outputs": [
    {
     "name": "stdout",
     "output_type": "stream",
     "text": [
      "feature analysis output is a dictionary with keys counts,total_ratio,bin_ratio\n",
      "Counts\n",
      "+-------------------+-------------------+-------------------+-------+\n",
      "| Customer_Age_bins | Existing Customer | Attrited Customer | total |\n",
      "+-------------------+-------------------+-------------------+-------+\n",
      "|   (25.999, 36.0]  |        994        |        146        |  1140 |\n",
      "|    (36.0, 39.0]   |        764        |        132        |  896  |\n",
      "|    (39.0, 42.0]   |        964        |        202        |  1166 |\n",
      "|    (42.0, 44.0]   |        804        |        169        |  973  |\n",
      "|    (44.0, 46.0]   |        815        |        161        |  976  |\n",
      "|    (46.0, 48.0]   |        790        |        161        |  951  |\n",
      "|    (48.0, 51.0]   |        1137       |        208        |  1345 |\n",
      "|    (51.0, 53.0]   |        646        |        117        |  763  |\n",
      "|    (53.0, 57.0]   |        875        |        196        |  1071 |\n",
      "|    (57.0, 73.0]   |        711        |        135        |  846  |\n",
      "|       total       |        8500       |        1627       | 10127 |\n",
      "+-------------------+-------------------+-------------------+-------+\n",
      "Total Ratio\n",
      "+-------------------+-------------------+-------------------+---------+\n",
      "| Customer_Age_bins | Existing Customer | Attrited Customer |  total  |\n",
      "+-------------------+-------------------+-------------------+---------+\n",
      "|   (25.999, 36.0]  |       9.82%       |       1.44%       |  11.26% |\n",
      "|    (36.0, 39.0]   |       7.54%       |       1.30%       |  8.85%  |\n",
      "|    (39.0, 42.0]   |       9.52%       |       1.99%       |  11.51% |\n",
      "|    (42.0, 44.0]   |       7.94%       |       1.67%       |  9.61%  |\n",
      "|    (44.0, 46.0]   |       8.05%       |       1.59%       |  9.64%  |\n",
      "|    (46.0, 48.0]   |       7.80%       |       1.59%       |  9.39%  |\n",
      "|    (48.0, 51.0]   |       11.23%      |       2.05%       |  13.28% |\n",
      "|    (51.0, 53.0]   |       6.38%       |       1.16%       |  7.53%  |\n",
      "|    (53.0, 57.0]   |       8.64%       |       1.94%       |  10.58% |\n",
      "|    (57.0, 73.0]   |       7.02%       |       1.33%       |  8.35%  |\n",
      "|       total       |       83.93%      |       16.07%      | 100.00% |\n",
      "+-------------------+-------------------+-------------------+---------+\n",
      "Binwise Ratio\n",
      "+-------------------+-------------------+-------------------+---------+\n",
      "| Customer_Age_bins | Existing Customer | Attrited Customer |  total  |\n",
      "+-------------------+-------------------+-------------------+---------+\n",
      "|   (25.999, 36.0]  |       87.19%      |       12.81%      | 100.00% |\n",
      "|    (36.0, 39.0]   |       85.27%      |       14.73%      | 100.00% |\n",
      "|    (39.0, 42.0]   |       82.68%      |       17.32%      | 100.00% |\n",
      "|    (42.0, 44.0]   |       82.63%      |       17.37%      | 100.00% |\n",
      "|    (44.0, 46.0]   |       83.50%      |       16.50%      | 100.00% |\n",
      "|    (46.0, 48.0]   |       83.07%      |       16.93%      | 100.00% |\n",
      "|    (48.0, 51.0]   |       84.54%      |       15.46%      | 100.00% |\n",
      "|    (51.0, 53.0]   |       84.67%      |       15.33%      | 100.00% |\n",
      "|    (53.0, 57.0]   |       81.70%      |       18.30%      | 100.00% |\n",
      "|    (57.0, 73.0]   |       84.04%      |       15.96%      | 100.00% |\n",
      "|       total       |       83.93%      |       16.07%      | 100.00% |\n",
      "+-------------------+-------------------+-------------------+---------+\n"
     ]
    }
   ],
   "source": [
    "analyse_feature(df,'Customer_Age','Attrition_Flag',relation='con2cat',bins='False')"
   ]
  },
  {
   "cell_type": "markdown",
   "metadata": {},
   "source": [
    "## woe"
   ]
  },
  {
   "cell_type": "code",
   "execution_count": 23,
   "metadata": {},
   "outputs": [
    {
     "name": "stdout",
     "output_type": "stream",
     "text": [
      "+-------------------+-----------------------+-------------------------+---------+------------+------------+--------+-------+\n",
      "| Customer_Age_bins | Attrited Customer_sum | Attrited Customer_count | %events | #nonevents | %nonevents |  woe   |   IV  |\n",
      "+-------------------+-----------------------+-------------------------+---------+------------+------------+--------+-------+\n",
      "|   (25.999, 36.0]  |          146          |           1140          |   0.09  |    994     |   0.117    | -0.262 | 0.007 |\n",
      "|    (36.0, 39.0]   |          132          |           896           |  0.081  |    764     |    0.09    | -0.105 | 0.001 |\n",
      "|    (39.0, 42.0]   |          202          |           1166          |  0.124  |    964     |   0.113    | 0.093  | 0.001 |\n",
      "|    (42.0, 44.0]   |          169          |           973           |  0.104  |    804     |   0.095    | 0.091  | 0.001 |\n",
      "|    (44.0, 46.0]   |          161          |           976           |  0.099  |    815     |   0.096    | 0.031  |  0.0  |\n",
      "|    (46.0, 48.0]   |          161          |           951           |  0.099  |    790     |   0.093    | 0.063  |  0.0  |\n",
      "|    (48.0, 51.0]   |          208          |           1345          |  0.128  |    1137    |   0.134    | -0.046 |  0.0  |\n",
      "|    (51.0, 53.0]   |          117          |           763           |  0.072  |    646     |   0.076    | -0.054 |  0.0  |\n",
      "|    (53.0, 57.0]   |          196          |           1071          |   0.12  |    875     |   0.103    | 0.153  | 0.003 |\n",
      "|    (57.0, 73.0]   |          135          |           846           |  0.083  |    711     |   0.084    | -0.012 |  0.0  |\n",
      "+-------------------+-----------------------+-------------------------+---------+------------+------------+--------+-------+\n"
     ]
    }
   ],
   "source": [
    "woe_iv_df = woe_iv(df,'Customer_Age','Attrition_Flag','Attrited Customer',bins='False',continuous=True)"
   ]
  },
  {
   "cell_type": "code",
   "execution_count": 24,
   "metadata": {},
   "outputs": [
    {
     "name": "stdout",
     "output_type": "stream",
     "text": [
      "+--------+-----------------------+-------------------------+---------+------------+------------+--------+-------+\n",
      "| Gender | Attrited Customer_sum | Attrited Customer_count | %events | #nonevents | %nonevents |  woe   |   IV  |\n",
      "+--------+-----------------------+-------------------------+---------+------------+------------+--------+-------+\n",
      "|   F    |          930          |           5358          |  0.572  |    4428    |   0.521    | 0.093  | 0.005 |\n",
      "|   M    |          697          |           4769          |  0.428  |    4072    |   0.479    | -0.113 | 0.006 |\n",
      "+--------+-----------------------+-------------------------+---------+------------+------------+--------+-------+\n"
     ]
    }
   ],
   "source": [
    "woe_iv_df2 = woe_iv(df,'Gender','Attrition_Flag','Attrited Customer',bins='False',continuous=False)"
   ]
  },
  {
   "cell_type": "markdown",
   "metadata": {},
   "source": [
    "## chi-square selection"
   ]
  },
  {
   "cell_type": "code",
   "execution_count": 28,
   "metadata": {},
   "outputs": [],
   "source": [
    "from utilities import chi_selection,entropy"
   ]
  },
  {
   "cell_type": "code",
   "execution_count": 26,
   "metadata": {},
   "outputs": [
    {
     "name": "stdout",
     "output_type": "stream",
     "text": [
      "Error processing feature Unnamed: 20: index 0 is out of bounds for axis 0 with size 0\n",
      "Error processing feature Unnamed: 22: index 0 is out of bounds for axis 0 with size 0\n",
      "+------------------------------+------------------------+--------------------+\n",
      "|           feature            |        p_value         |  chi_square_stats  |\n",
      "+------------------------------+------------------------+--------------------+\n",
      "|  Months_Inactive_12_mon_bin  | 0.0009122423017769385  | 3131.7880543128026 |\n",
      "|  Contacts_Count_12_mon_bin   |   0.9202920802972726   | 3729.162869890826  |\n",
      "|     Dependent_count_bin      |   0.5587963729847766   | 3838.3660987260946 |\n",
      "| Total_Relationship_Count_bin |   0.5040137398566246   | 3850.4504211954163 |\n",
      "|      Months_on_book_bin      |   0.3112731284295795   | 6797.647239342002  |\n",
      "|       Customer_Age_bin       |   0.8399867478542998   | 8536.075795687198  |\n",
      "|   Total_Amt_Chng_Q4_Q1_bin   |   0.4384178777242985   | 8686.753122264443  |\n",
      "|   Total_Ct_Chng_Q4_Q1_bin    |   0.3354430741613463   | 8722.397265283473  |\n",
      "|      Total_Trans_Ct_bin      | 0.0019016575960185795  | 9052.944271478607  |\n",
      "|     Total_Trans_Amt_bin      | 3.6712178831527566e-07 | 9334.738373281605  |\n",
      "|   Total_Revolving_Bal_bin    |          0.0           | 18156.54662408351  |\n",
      "|       Credit_Limit_bin       |          0.0           | 21814.84456126427  |\n",
      "|     Avg_Open_To_Buy_bin      |          0.0           | 29490.973070804022 |\n",
      "+------------------------------+------------------------+--------------------+\n"
     ]
    }
   ],
   "source": [
    "table(chi_selection(df,'Avg_Utilization_Ratio'))"
   ]
  },
  {
   "cell_type": "markdown",
   "metadata": {},
   "source": [
    "## Entropy"
   ]
  },
  {
   "cell_type": "code",
   "execution_count": 29,
   "metadata": {},
   "outputs": [
    {
     "data": {
      "text/plain": [
       "0.298746875060096"
      ]
     },
     "execution_count": 29,
     "metadata": {},
     "output_type": "execute_result"
    }
   ],
   "source": [
    "entropy('Customer_Age')"
   ]
  },
  {
   "cell_type": "code",
   "execution_count": 30,
   "metadata": {},
   "outputs": [
    {
     "data": {
      "text/plain": [
       "0.21609640474436778"
      ]
     },
     "execution_count": 30,
     "metadata": {},
     "output_type": "execute_result"
    }
   ],
   "source": [
    "entropy('Total_Amt_Chng_Q4_Q1')"
   ]
  },
  {
   "cell_type": "code",
   "execution_count": null,
   "metadata": {},
   "outputs": [],
   "source": []
  }
 ],
 "metadata": {
  "kernelspec": {
   "display_name": "Python 3",
   "language": "python",
   "name": "python3"
  },
  "language_info": {
   "codemirror_mode": {
    "name": "ipython",
    "version": 3
   },
   "file_extension": ".py",
   "mimetype": "text/x-python",
   "name": "python",
   "nbconvert_exporter": "python",
   "pygments_lexer": "ipython3",
   "version": "3.11.8"
  }
 },
 "nbformat": 4,
 "nbformat_minor": 4
}
